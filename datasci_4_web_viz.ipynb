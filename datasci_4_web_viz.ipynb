{
  "nbformat": 4,
  "nbformat_minor": 0,
  "metadata": {
    "colab": {
      "provenance": [],
      "toc_visible": true,
      "authorship_tag": "ABX9TyPUwd8t96Ww20O/hDj96LNJ",
      "include_colab_link": true
    },
    "kernelspec": {
      "name": "python3",
      "display_name": "Python 3"
    },
    "language_info": {
      "name": "python"
    }
  },
  "cells": [
    {
      "cell_type": "markdown",
      "metadata": {
        "id": "view-in-github",
        "colab_type": "text"
      },
      "source": [
        "<a href=\"https://colab.research.google.com/github/Alyssasorensen/datasci_4_web_viz/blob/main/datasci_4_web_viz.ipynb\" target=\"_parent\"><img src=\"https://colab.research.google.com/assets/colab-badge.svg\" alt=\"Open In Colab\"/></a>"
      ]
    },
    {
      "cell_type": "markdown",
      "source": [
        "## Python's Shiny Visualization"
      ],
      "metadata": {
        "id": "y8tO607MDk4B"
      }
    },
    {
      "cell_type": "code",
      "source": [
        "pip install shiny"
      ],
      "metadata": {
        "colab": {
          "base_uri": "https://localhost:8080/"
        },
        "id": "l7-CpzgE6E7N",
        "outputId": "a7d06a54-a451-4e4d-ac01-85f684b876eb"
      },
      "execution_count": 2,
      "outputs": [
        {
          "output_type": "stream",
          "name": "stdout",
          "text": [
            "Collecting shiny\n",
            "  Downloading shiny-0.5.1-py3-none-any.whl (3.3 MB)\n",
            "\u001b[2K     \u001b[90m━━━━━━━━━━━━━━━━━━━━━━━━━━━━━━━━━━━━━━━━\u001b[0m \u001b[32m3.3/3.3 MB\u001b[0m \u001b[31m14.1 MB/s\u001b[0m eta \u001b[36m0:00:00\u001b[0m\n",
            "\u001b[?25hRequirement already satisfied: typing-extensions>=4.0.1 in /usr/local/lib/python3.10/dist-packages (from shiny) (4.5.0)\n",
            "Collecting uvicorn>=0.16.0 (from shiny)\n",
            "  Downloading uvicorn-0.23.2-py3-none-any.whl (59 kB)\n",
            "\u001b[2K     \u001b[90m━━━━━━━━━━━━━━━━━━━━━━━━━━━━━━━━━━━━━━━━\u001b[0m \u001b[32m59.5/59.5 kB\u001b[0m \u001b[31m6.7 MB/s\u001b[0m eta \u001b[36m0:00:00\u001b[0m\n",
            "\u001b[?25hCollecting starlette>=0.17.1 (from shiny)\n",
            "  Downloading starlette-0.31.1-py3-none-any.whl (69 kB)\n",
            "\u001b[2K     \u001b[90m━━━━━━━━━━━━━━━━━━━━━━━━━━━━━━━━━━━━━━━━\u001b[0m \u001b[32m69.9/69.9 kB\u001b[0m \u001b[31m8.4 MB/s\u001b[0m eta \u001b[36m0:00:00\u001b[0m\n",
            "\u001b[?25hCollecting websockets>=10.0 (from shiny)\n",
            "  Downloading websockets-11.0.3-cp310-cp310-manylinux_2_5_x86_64.manylinux1_x86_64.manylinux_2_17_x86_64.manylinux2014_x86_64.whl (129 kB)\n",
            "\u001b[2K     \u001b[90m━━━━━━━━━━━━━━━━━━━━━━━━━━━━━━━━━━━━━━\u001b[0m \u001b[32m129.9/129.9 kB\u001b[0m \u001b[31m16.5 MB/s\u001b[0m eta \u001b[36m0:00:00\u001b[0m\n",
            "\u001b[?25hCollecting python-multipart (from shiny)\n",
            "  Downloading python_multipart-0.0.6-py3-none-any.whl (45 kB)\n",
            "\u001b[2K     \u001b[90m━━━━━━━━━━━━━━━━━━━━━━━━━━━━━━━━━━━━━━━━\u001b[0m \u001b[32m45.7/45.7 kB\u001b[0m \u001b[31m5.9 MB/s\u001b[0m eta \u001b[36m0:00:00\u001b[0m\n",
            "\u001b[?25hCollecting htmltools>=0.2.1 (from shiny)\n",
            "  Downloading htmltools-0.3.0-py3-none-any.whl (79 kB)\n",
            "\u001b[2K     \u001b[90m━━━━━━━━━━━━━━━━━━━━━━━━━━━━━━━━━━━━━━━━\u001b[0m \u001b[32m80.0/80.0 kB\u001b[0m \u001b[31m9.8 MB/s\u001b[0m eta \u001b[36m0:00:00\u001b[0m\n",
            "\u001b[?25hRequirement already satisfied: click>=8.1.4 in /usr/local/lib/python3.10/dist-packages (from shiny) (8.1.7)\n",
            "Requirement already satisfied: markdown-it-py>=1.1.0 in /usr/local/lib/python3.10/dist-packages (from shiny) (3.0.0)\n",
            "Requirement already satisfied: mdit-py-plugins>=0.3.0 in /usr/local/lib/python3.10/dist-packages (from shiny) (0.4.0)\n",
            "Requirement already satisfied: linkify-it-py>=1.0 in /usr/local/lib/python3.10/dist-packages (from shiny) (2.0.2)\n",
            "Requirement already satisfied: appdirs>=1.4.4 in /usr/local/lib/python3.10/dist-packages (from shiny) (1.4.4)\n",
            "Collecting asgiref>=3.5.2 (from shiny)\n",
            "  Downloading asgiref-3.7.2-py3-none-any.whl (24 kB)\n",
            "Collecting watchfiles>=0.18.0 (from shiny)\n",
            "  Downloading watchfiles-0.20.0-cp37-abi3-manylinux_2_17_x86_64.manylinux2014_x86_64.whl (1.3 MB)\n",
            "\u001b[2K     \u001b[90m━━━━━━━━━━━━━━━━━━━━━━━━━━━━━━━━━━━━━━━━\u001b[0m \u001b[32m1.3/1.3 MB\u001b[0m \u001b[31m28.3 MB/s\u001b[0m eta \u001b[36m0:00:00\u001b[0m\n",
            "\u001b[?25hRequirement already satisfied: packaging>=20.9 in /usr/local/lib/python3.10/dist-packages (from htmltools>=0.2.1->shiny) (23.1)\n",
            "Requirement already satisfied: uc-micro-py in /usr/local/lib/python3.10/dist-packages (from linkify-it-py>=1.0->shiny) (1.0.2)\n",
            "Requirement already satisfied: mdurl~=0.1 in /usr/local/lib/python3.10/dist-packages (from markdown-it-py>=1.1.0->shiny) (0.1.2)\n",
            "Requirement already satisfied: anyio<5,>=3.4.0 in /usr/local/lib/python3.10/dist-packages (from starlette>=0.17.1->shiny) (3.7.1)\n",
            "Collecting h11>=0.8 (from uvicorn>=0.16.0->shiny)\n",
            "  Downloading h11-0.14.0-py3-none-any.whl (58 kB)\n",
            "\u001b[2K     \u001b[90m━━━━━━━━━━━━━━━━━━━━━━━━━━━━━━━━━━━━━━━━\u001b[0m \u001b[32m58.3/58.3 kB\u001b[0m \u001b[31m6.6 MB/s\u001b[0m eta \u001b[36m0:00:00\u001b[0m\n",
            "\u001b[?25hRequirement already satisfied: idna>=2.8 in /usr/local/lib/python3.10/dist-packages (from anyio<5,>=3.4.0->starlette>=0.17.1->shiny) (3.4)\n",
            "Requirement already satisfied: sniffio>=1.1 in /usr/local/lib/python3.10/dist-packages (from anyio<5,>=3.4.0->starlette>=0.17.1->shiny) (1.3.0)\n",
            "Requirement already satisfied: exceptiongroup in /usr/local/lib/python3.10/dist-packages (from anyio<5,>=3.4.0->starlette>=0.17.1->shiny) (1.1.3)\n",
            "Installing collected packages: websockets, python-multipart, htmltools, h11, asgiref, watchfiles, uvicorn, starlette, shiny\n",
            "Successfully installed asgiref-3.7.2 h11-0.14.0 htmltools-0.3.0 python-multipart-0.0.6 shiny-0.5.1 starlette-0.31.1 uvicorn-0.23.2 watchfiles-0.20.0 websockets-11.0.3\n"
          ]
        }
      ]
    },
    {
      "cell_type": "code",
      "execution_count": 35,
      "metadata": {
        "id": "haeXVvFvzR98"
      },
      "outputs": [],
      "source": [
        "from shiny import App, render, ui\n",
        "import matplotlib.pyplot as plt\n",
        "import pandas as pd\n",
        "from flask import Flask, render_template, request\n",
        "import numpy as np"
      ]
    },
    {
      "cell_type": "code",
      "source": [
        "# Load the dataset\n",
        "def load_data():\n",
        "    url = \"https://raw.githubusercontent.com/Alyssasorensen/datasci_4_web_viz/main/datasets/PLACES__Local_Data_for_Better_Health__County_Data_2023_release%20(1).csv\"\n",
        "    return pd.read_csv(url)"
      ],
      "metadata": {
        "id": "OHcqJRzt7wMj"
      },
      "execution_count": 36,
      "outputs": []
    },
    {
      "cell_type": "code",
      "source": [
        "df = load_data()\n",
        "df_obesity = df[(df['MeasureId'] == 'OBESITY ') & (df['Data_Value_Type'] == 'Crude prevalence')]"
      ],
      "metadata": {
        "id": "6DbGXkfe7-5K"
      },
      "execution_count": 37,
      "outputs": []
    },
    {
      "cell_type": "code",
      "source": [
        "# Available counties for selection\n",
        "counties = df_obesity['LocationName'].unique()"
      ],
      "metadata": {
        "id": "EOGiqmXz8YPB"
      },
      "execution_count": 38,
      "outputs": []
    },
    {
      "cell_type": "code",
      "source": [
        "app_ui = ui.page_fluid(\n",
        "    ui.input_select(\"county\", \"Select County\", {county: county for county in counties}),\n",
        "    ui.output_text_verbatim(\"avg_data_value\"),\n",
        "    ui.output_plot(\"bar_chart\")\n",
        ")"
      ],
      "metadata": {
        "id": "EDlBY8kc8csR"
      },
      "execution_count": 39,
      "outputs": []
    },
    {
      "cell_type": "code",
      "source": [
        "def server(input, output, session):\n",
        "\n",
        "    @output\n",
        "    @render.text\n",
        "    def avg_data_value():\n",
        "        selected_county = input.county()\n",
        "        avg_value = df_obesity[df_obesity['LocationName'] == selected_county]['Data_Value'].mean()\n",
        "        return f\"Average Obesity Crude Prevalence for {selected_county}: {avg_value:.2f}%\"\n",
        "    @output\n",
        "    @render.plot(alt=\"Average Obesity Crude Prevalence Bar Chart\")\n",
        "    def bar_chart():\n",
        "        overall_avg = df_obesity['Data_Value'].mean()\n",
        "        selected_county_avg = df_obesity[df_obesity['LocationName'] == input.county()]['Data_Value'].mean()\n",
        "\n",
        "        fig, ax = plt.subplots(figsize=(10, 6))\n",
        "        ax.bar(['Selected County', 'Overall Average'], [selected_county_avg, overall_avg], color=['lightcoral', 'dodgerblue'])\n",
        "\n",
        "        ax.set_ylabel('Data Value (Crude prevalence) - Percent')\n",
        "        ax.set_ylim(0, 30)\n",
        "        ax.set_title('Obesity Crude Prevalence Comparison')\n",
        "\n",
        "        return fig"
      ],
      "metadata": {
        "id": "uGYIP2OV87fU"
      },
      "execution_count": 40,
      "outputs": []
    },
    {
      "cell_type": "markdown",
      "source": [
        "## Flask with Matplotlib Visualization"
      ],
      "metadata": {
        "id": "fTI9DL0EDsf1"
      }
    },
    {
      "cell_type": "code",
      "source": [
        "from flask import Flask, render_template, request\n",
        "import pandas as pd\n",
        "import matplotlib\n",
        "matplotlib.use('Agg') # required for local development and g-shell\n",
        "import matplotlib.pyplot as plt\n",
        "import io\n",
        "import base64"
      ],
      "metadata": {
        "id": "nPfu6sfsDzAv"
      },
      "execution_count": 74,
      "outputs": []
    },
    {
      "cell_type": "code",
      "source": [
        "app = Flask(__name__)\n",
        "\n",
        "# Load the dataset\n",
        "url = \"https://raw.githubusercontent.com/Alyssasorensen/datasci_4_web_viz/main/datasets/PLACES__Local_Data_for_Better_Health__County_Data_2023_release%20(1).csv\"\n",
        "df = pd.read_csv(url)\n",
        "df_obesity = df[(df['MeasureId'] == 'OBESITY') & (df['Data_Value_Type'] == 'Crude prevalence')]\n",
        "\n",
        "@app.route('/', methods=['GET', 'POST'])\n",
        "def index():\n",
        "    counties = sorted(df_obesity['LocationName'].unique())\n",
        "    selected_county = request.form.get('county') or counties[0]\n",
        "    img = create_plot(selected_county)\n",
        "\n",
        "    return render_template(\"index.html\", counties=counties, selected_county=selected_county, img=img)\n",
        "\n",
        "def create_plot(county):\n",
        "    overall_avg = df_obesity['Data_Value'].mean()\n",
        "    selected_county_avg = df_obesity[df_obesity['LocationName'] == county]['Data_Value'].mean()\n",
        "\n",
        "    fig, ax = plt.subplots(figsize=(10, 6))\n",
        "    ax.bar(['Selected County', 'Overall Average'], [selected_county_avg, overall_avg], color=['lightcoral', 'dodgerblue'])\n",
        "    ax.axhline(selected_county_avg, color='gray', linestyle='dashed', alpha=0.7)\n",
        "    ax.set_ylabel('Data Value (Crude prevalence) - Percent')\n",
        "    ax.set_ylim(0, 30)\n",
        "    ax.set_title('Obesity Crude Prevalence Comparison')\n",
        "\n",
        "    # Convert plot to PNG image\n",
        "    img = io.BytesIO()\n",
        "    plt.savefig(img, format='png')\n",
        "    img.seek(0)\n",
        "\n",
        "    return base64.b64encode(img.getvalue()).decode()\n",
        "\n",
        "if __name__ == '__main__':\n",
        "    app.run(debug=True)\n"
      ],
      "metadata": {
        "colab": {
          "base_uri": "https://localhost:8080/"
        },
        "id": "lySPZslHIf9G",
        "outputId": "97dc91fa-f404-4010-ca50-1cc403d450ca"
      },
      "execution_count": 86,
      "outputs": [
        {
          "output_type": "stream",
          "name": "stdout",
          "text": [
            " * Serving Flask app '__main__'\n",
            " * Debug mode: on\n"
          ]
        },
        {
          "output_type": "stream",
          "name": "stderr",
          "text": [
            "INFO:werkzeug:\u001b[31m\u001b[1mWARNING: This is a development server. Do not use it in a production deployment. Use a production WSGI server instead.\u001b[0m\n",
            " * Running on http://127.0.0.1:5000\n",
            "INFO:werkzeug:\u001b[33mPress CTRL+C to quit\u001b[0m\n",
            "INFO:werkzeug: * Restarting with stat\n"
          ]
        }
      ]
    }
  ]
}